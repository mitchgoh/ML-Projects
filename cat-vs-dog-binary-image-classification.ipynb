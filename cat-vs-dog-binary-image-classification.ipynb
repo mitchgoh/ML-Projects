{
 "cells": [
  {
   "cell_type": "markdown",
   "id": "141eed3d",
   "metadata": {
    "papermill": {
     "duration": 0.003292,
     "end_time": "2023-01-11T14:19:56.470505",
     "exception": false,
     "start_time": "2023-01-11T14:19:56.467213",
     "status": "completed"
    },
    "tags": []
   },
   "source": [
    "# **Import Packages**"
   ]
  },
  {
   "cell_type": "code",
   "execution_count": 1,
   "id": "8a43044f",
   "metadata": {
    "_cell_guid": "b1076dfc-b9ad-4769-8c92-a6c4dae69d19",
    "_uuid": "8f2839f25d086af736a60e9eeb907d3b93b6e0e5",
    "execution": {
     "iopub.execute_input": "2023-01-11T14:19:56.478004Z",
     "iopub.status.busy": "2023-01-11T14:19:56.477470Z",
     "iopub.status.idle": "2023-01-11T14:20:06.020956Z",
     "shell.execute_reply": "2023-01-11T14:20:06.019593Z"
    },
    "papermill": {
     "duration": 9.551247,
     "end_time": "2023-01-11T14:20:06.024375",
     "exception": false,
     "start_time": "2023-01-11T14:19:56.473128",
     "status": "completed"
    },
    "tags": []
   },
   "outputs": [],
   "source": [
    "# Core\n",
    "import numpy as np\n",
    "import random\n",
    "import matplotlib.pyplot as plt\n",
    "# %matplotlib inline\n",
    "from sklearn.metrics import confusion_matrix\n",
    "import seaborn as sns\n",
    "sns.set(style='darkgrid', font_scale=1.4)\n",
    "import os\n",
    "# os.environ['TF_CPP_MIN_LOG_LEVEL'] = '3'\n",
    "\n",
    "# Tensorflow\n",
    "from tensorflow import keras\n",
    "from tensorflow.keras.preprocessing.image import ImageDataGenerator\n",
    "from tensorflow.keras.preprocessing import image\n",
    "from tensorflow.keras.applications.inception_resnet_v2 import InceptionResNetV2, preprocess_input\n",
    "from tensorflow.keras.layers import Dense, Flatten\n",
    "from tensorflow.keras.models import Model\n",
    "from tensorflow.keras.optimizers import Adam"
   ]
  },
  {
   "cell_type": "markdown",
   "id": "7f6355d7",
   "metadata": {
    "papermill": {
     "duration": 0.001972,
     "end_time": "2023-01-11T14:20:06.028781",
     "exception": false,
     "start_time": "2023-01-11T14:20:06.026809",
     "status": "completed"
    },
    "tags": []
   },
   "source": [
    "# **Import Data**"
   ]
  },
  {
   "cell_type": "code",
   "execution_count": 2,
   "id": "b2005df7",
   "metadata": {
    "execution": {
     "iopub.execute_input": "2023-01-11T14:20:06.035333Z",
     "iopub.status.busy": "2023-01-11T14:20:06.034547Z",
     "iopub.status.idle": "2023-01-11T14:20:06.040961Z",
     "shell.execute_reply": "2023-01-11T14:20:06.039590Z"
    },
    "papermill": {
     "duration": 0.01262,
     "end_time": "2023-01-11T14:20:06.043591",
     "exception": false,
     "start_time": "2023-01-11T14:20:06.030971",
     "status": "completed"
    },
    "tags": []
   },
   "outputs": [],
   "source": [
    "train_dir = '/kaggle/input/cats-and-dogs-image-classification/train'\n",
    "test_dir = '/kaggle/input/cats-and-dogs-image-classification/test'"
   ]
  },
  {
   "cell_type": "markdown",
   "id": "4a5a5763",
   "metadata": {
    "papermill": {
     "duration": 0.002594,
     "end_time": "2023-01-11T14:20:06.048717",
     "exception": false,
     "start_time": "2023-01-11T14:20:06.046123",
     "status": "completed"
    },
    "tags": []
   },
   "source": [
    "# **Transform Images into Matrix data format**"
   ]
  },
  {
   "cell_type": "code",
   "execution_count": null,
   "id": "c229fbd1",
   "metadata": {
    "papermill": {
     "duration": 0.00197,
     "end_time": "2023-01-11T14:20:06.053102",
     "exception": false,
     "start_time": "2023-01-11T14:20:06.051132",
     "status": "completed"
    },
    "tags": []
   },
   "outputs": [],
   "source": []
  }
 ],
 "metadata": {
  "kernelspec": {
   "display_name": "Python 3",
   "language": "python",
   "name": "python3"
  },
  "language_info": {
   "codemirror_mode": {
    "name": "ipython",
    "version": 3
   },
   "file_extension": ".py",
   "mimetype": "text/x-python",
   "name": "python",
   "nbconvert_exporter": "python",
   "pygments_lexer": "ipython3",
   "version": "3.7.12"
  },
  "papermill": {
   "default_parameters": {},
   "duration": 23.326658,
   "end_time": "2023-01-11T14:20:09.053517",
   "environment_variables": {},
   "exception": null,
   "input_path": "__notebook__.ipynb",
   "output_path": "__notebook__.ipynb",
   "parameters": {},
   "start_time": "2023-01-11T14:19:45.726859",
   "version": "2.3.4"
  }
 },
 "nbformat": 4,
 "nbformat_minor": 5
}
