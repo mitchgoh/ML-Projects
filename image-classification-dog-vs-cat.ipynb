{
 "cells": [
  {
   "cell_type": "code",
   "execution_count": 1,
   "id": "ade4db5e",
   "metadata": {
    "execution": {
     "iopub.execute_input": "2023-01-09T13:53:57.258466Z",
     "iopub.status.busy": "2023-01-09T13:53:57.257808Z",
     "iopub.status.idle": "2023-01-09T13:54:04.736490Z",
     "shell.execute_reply": "2023-01-09T13:54:04.735431Z"
    },
    "papermill": {
     "duration": 7.487562,
     "end_time": "2023-01-09T13:54:04.739954",
     "exception": false,
     "start_time": "2023-01-09T13:53:57.252392",
     "status": "completed"
    },
    "tags": []
   },
   "outputs": [],
   "source": [
    "# Core\n",
    "import numpy as np\n",
    "import random\n",
    "import matplotlib.pyplot as plt\n",
    "%matplotlib inline\n",
    "from sklearn.metrics import confusion_matrix\n",
    "import seaborn as sns\n",
    "sns.set(style='darkgrid', font_scale=1.4)\n",
    "import os\n",
    "# os.environ['TF_CPP_MIN_LOG_LEVEL'] = '3'\n",
    "\n",
    "# Tensorflow\n",
    "from tensorflow import keras\n",
    "from tensorflow.keras.preprocessing.image import ImageDataGenerator\n",
    "from tensorflow.keras.preprocessing import image\n",
    "from tensorflow.keras.applications.inception_resnet_v2 import InceptionResNetV2, preprocess_input\n",
    "from tensorflow.keras.layers import Dense, Flatten\n",
    "from tensorflow.keras.models import Model\n",
    "from tensorflow.keras.optimizers import Adam"
   ]
  },
  {
   "cell_type": "code",
   "execution_count": 2,
   "id": "9ab9129b",
   "metadata": {
    "execution": {
     "iopub.execute_input": "2023-01-09T13:54:04.746506Z",
     "iopub.status.busy": "2023-01-09T13:54:04.745845Z",
     "iopub.status.idle": "2023-01-09T13:54:04.755403Z",
     "shell.execute_reply": "2023-01-09T13:54:04.754235Z"
    },
    "papermill": {
     "duration": 0.016021,
     "end_time": "2023-01-09T13:54:04.758486",
     "exception": false,
     "start_time": "2023-01-09T13:54:04.742465",
     "status": "completed"
    },
    "tags": []
   },
   "outputs": [
    {
     "data": {
      "text/plain": [
       "'/kaggle/input/cats-and-dogs-image-classification/train'"
      ]
     },
     "execution_count": 2,
     "metadata": {},
     "output_type": "execute_result"
    }
   ],
   "source": [
    "train_dir = '/kaggle/input/cats-and-dogs-image-classification/train'\n",
    "test_dir = '/kaggle/input/cats-and-dogs-image-classification/test'\n",
    "\n",
    "train_dir"
   ]
  },
  {
   "cell_type": "code",
   "execution_count": 3,
   "id": "db0356f0",
   "metadata": {
    "execution": {
     "iopub.execute_input": "2023-01-09T13:54:04.764514Z",
     "iopub.status.busy": "2023-01-09T13:54:04.763738Z",
     "iopub.status.idle": "2023-01-09T13:54:04.771444Z",
     "shell.execute_reply": "2023-01-09T13:54:04.770568Z"
    },
    "papermill": {
     "duration": 0.013224,
     "end_time": "2023-01-09T13:54:04.773785",
     "exception": false,
     "start_time": "2023-01-09T13:54:04.760561",
     "status": "completed"
    },
    "tags": []
   },
   "outputs": [],
   "source": [
    "train_data=ImageDataGenerator(\n",
    "    preprocessing_function=preprocess_input,\n",
    "    validation_split=0.15,\n",
    "    rotation_range=0.3,\n",
    "    width_shift_range=0.2,\n",
    "    height_shift_range=0.2,\n",
    "    zoom_range=0.15,\n",
    "    shear_range=0.2)\n",
    "\n",
    "validation_data=ImageDataGenerator(\n",
    "    preprocessing_function=preprocess_input)\n",
    "\n",
    "testing_data=ImageDataGenerator(\n",
    "    preprocessing_function=preprocess_input)"
   ]
  }
 ],
 "metadata": {
  "kernelspec": {
   "display_name": "Python 3",
   "language": "python",
   "name": "python3"
  },
  "language_info": {
   "codemirror_mode": {
    "name": "ipython",
    "version": 3
   },
   "file_extension": ".py",
   "mimetype": "text/x-python",
   "name": "python",
   "nbconvert_exporter": "python",
   "pygments_lexer": "ipython3",
   "version": "3.7.12"
  },
  "papermill": {
   "default_parameters": {},
   "duration": 19.114118,
   "end_time": "2023-01-09T13:54:07.751226",
   "environment_variables": {},
   "exception": null,
   "input_path": "__notebook__.ipynb",
   "output_path": "__notebook__.ipynb",
   "parameters": {},
   "start_time": "2023-01-09T13:53:48.637108",
   "version": "2.3.4"
  }
 },
 "nbformat": 4,
 "nbformat_minor": 5
}
